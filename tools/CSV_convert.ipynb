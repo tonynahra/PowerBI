{
 "cells": [
  {
   "cell_type": "code",
   "execution_count": 26,
   "id": "2729d5d8",
   "metadata": {},
   "outputs": [
    {
     "name": "stdout",
     "output_type": "stream",
     "text": [
      "Processed:169775\n"
     ]
    }
   ],
   "source": [
    "import csv\n",
    "    \n",
    "Cnt = 0    \n",
    "Cn = 0 \n",
    "with open('Ranking.csv') as file_obj:\n",
    "    with open('ChessRatingsAll.csv', mode='w',newline='') as csv_dest:\n",
    "        writer = csv.writer(csv_dest)\n",
    "        \n",
    "            \n",
    "        reader_obj = csv.reader(file_obj)\n",
    "        for row in reader_obj:\n",
    "            Cn += 1\n",
    "            try:\n",
    "                if Cnt > 0 :\n",
    "                    NewRow = [row[0],row[1],row[2],row[3],'Classic',row[6]]\n",
    "                    writer.writerow( NewRow )\n",
    "                    NewRow = [row[0],row[1],row[2],row[3],'Rapid',row[7]]\n",
    "                    writer.writerow( NewRow )\n",
    "                    NewRow = [row[0],row[1],row[2],row[3],'Blitz',row[8]]\n",
    "                    writer.writerow( NewRow )\n",
    "                else:\n",
    "                    # write Header columns\n",
    "                    NewRow = [row[0],row[1],row[2],row[3],'Category','Rating']\n",
    "                    writer.writerow( NewRow )                        \n",
    "                Cnt += 1\n",
    "            except:\n",
    "                continue\n",
    "\n",
    "print('Processed:' + str(Cnt) )"
   ]
  },
  {
   "cell_type": "code",
   "execution_count": null,
   "id": "5b6329ad",
   "metadata": {},
   "outputs": [],
   "source": []
  }
 ],
 "metadata": {
  "kernelspec": {
   "display_name": "Python 3 (ipykernel)",
   "language": "python",
   "name": "python3"
  },
  "language_info": {
   "codemirror_mode": {
    "name": "ipython",
    "version": 3
   },
   "file_extension": ".py",
   "mimetype": "text/x-python",
   "name": "python",
   "nbconvert_exporter": "python",
   "pygments_lexer": "ipython3",
   "version": "3.10.9"
  }
 },
 "nbformat": 4,
 "nbformat_minor": 5
}
